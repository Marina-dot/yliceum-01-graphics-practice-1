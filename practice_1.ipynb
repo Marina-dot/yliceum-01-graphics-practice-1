{
 "cells": [
  {
   "cell_type": "code",
   "execution_count": null,
   "metadata": {
    "slideshow": {
     "slide_type": "slide"
    }
   },
   "outputs": [],
   "source": [
    "# Вначале импортируйте всё необходимое:\n",
    "\n",
    "from PIL import Image, ImageDraw"
   ]
  },
  {
   "cell_type": "markdown",
   "metadata": {
    "slideshow": {
     "slide_type": "slide"
    }
   },
   "source": [
    "# Задание 1"
   ]
  },
  {
   "cell_type": "markdown",
   "metadata": {
    "slideshow": {
     "slide_type": "fragment"
    }
   },
   "source": [
    "Переверните левую половину изображения `rihanna.jpg` сверху вниз таким образом, чтобы получилось изображение, показанное на рисунке:\n",
    "\n",
    "![](./problem-2-1.jpg)\n",
    "\n",
    "Результат преобразований сохраните в файл `result-2-1.jpg`."
   ]
  },
  {
   "cell_type": "code",
   "execution_count": null,
   "metadata": {
    "slideshow": {
     "slide_type": "slide"
    }
   },
   "outputs": [],
   "source": [
    "im = Image.open('rihanna.jpg')\n",
    "w, h = im.size\n",
    "px = im.load()\n",
    "\n",
    "# Добавьте код обработки изображения\n",
    "\n",
    "im.save('result-2-1.jpg')"
   ]
  },
  {
   "cell_type": "code",
   "execution_count": null,
   "metadata": {
    "slideshow": {
     "slide_type": "slide"
    }
   },
   "outputs": [],
   "source": [
    "# Выполните данную ячейку и убедитесь, что задание 1 выполнено корректно:\n",
    "\n",
    "Image.open('result-2-1.jpg')"
   ]
  },
  {
   "cell_type": "markdown",
   "metadata": {
    "slideshow": {
     "slide_type": "slide"
    }
   },
   "source": [
    "## Задание 2"
   ]
  },
  {
   "cell_type": "markdown",
   "metadata": {
    "slideshow": {
     "slide_type": "fragment"
    }
   },
   "source": [
    "Переверните правую половину изображения `rihanna.jpg` сверху вниз таким образом, чтобы получилось изображение, показанное на рисунке:\n",
    "\n",
    "![](./problem-2-2.jpg)\n",
    "\n",
    "Результат преобразований сохраните в файл `result-2-2.jpg`."
   ]
  },
  {
   "cell_type": "code",
   "execution_count": null,
   "metadata": {
    "slideshow": {
     "slide_type": "slide"
    }
   },
   "outputs": [],
   "source": [
    "im = Image.open('rihanna.jpg')\n",
    "\n",
    "# Добавьте код обработки изображения\n",
    "\n",
    "im.save('result-2-2.jpg')"
   ]
  },
  {
   "cell_type": "code",
   "execution_count": null,
   "metadata": {
    "slideshow": {
     "slide_type": "slide"
    }
   },
   "outputs": [],
   "source": [
    "# Выполните данную ячейку и убедитесь, что задание 2 выполнено корректно:\n",
    "\n",
    "Image.open('result-2-2.jpg')"
   ]
  },
  {
   "cell_type": "markdown",
   "metadata": {
    "slideshow": {
     "slide_type": "slide"
    }
   },
   "source": [
    "# Задание 3"
   ]
  },
  {
   "cell_type": "markdown",
   "metadata": {
    "slideshow": {
     "slide_type": "fragment"
    }
   },
   "source": [
    "&laquo;Нарежьте&raquo; изображение `rihanna.jpg` на вертикальные полосы шириной 48 пикселей и переверните **каждую нечётную полосу** сверху вниз таким образом, чтобы получилось изображение, показанное на рисунке:\n",
    "\n",
    "![](./problem-2-3.jpg)\n",
    "\n",
    "Результат преобразований сохраните в файл `result-2-3.jpg`.\n",
    "\n",
    "**Примечание**: нумерация полос изображения начинается с 1."
   ]
  },
  {
   "cell_type": "code",
   "execution_count": null,
   "metadata": {
    "slideshow": {
     "slide_type": "slide"
    }
   },
   "outputs": [],
   "source": [
    "im = Image.open('rihanna.jpg')\n",
    "\n",
    "# Добавьте код обработки изображения\n",
    "\n",
    "im.save('result-2-3.jpg')"
   ]
  },
  {
   "cell_type": "code",
   "execution_count": null,
   "metadata": {
    "slideshow": {
     "slide_type": "slide"
    }
   },
   "outputs": [],
   "source": [
    "# Выполните данную ячейку и убедитесь, что задание 3 выполнено корректно:\n",
    "\n",
    "Image.open('result-2-3.jpg')"
   ]
  },
  {
   "cell_type": "markdown",
   "metadata": {
    "slideshow": {
     "slide_type": "slide"
    }
   },
   "source": [
    "# Задание 4"
   ]
  },
  {
   "cell_type": "markdown",
   "metadata": {
    "slideshow": {
     "slide_type": "fragment"
    }
   },
   "source": [
    "Перед вами &mdash; настроечная телевизионная таблица (файл `tvsetup.jpg`, расположенный в текущей папке):\n",
    "\n",
    "![](./tvsetup.jpg)\n",
    "\n",
    "Ваша задача &mdash; отразить относительно центра изображения левую верхнюю и правую нижнюю четверти изображения. В результате должно получиться изображение, показанное на рисунке:\n",
    "\n",
    "![](./problem-2-4.jpg)\n",
    "\n",
    "Результат преобразования сохраните в файл `result-2-4.jpg`"
   ]
  },
  {
   "cell_type": "code",
   "execution_count": null,
   "metadata": {
    "slideshow": {
     "slide_type": "slide"
    }
   },
   "outputs": [],
   "source": [
    "im = Image.open('tvsetup.jpg')\n",
    "w, h = im.size\n",
    "px = im.load()\n",
    "\n",
    "# Добавьте код обработки изображения\n",
    "\n",
    "im.save('result-2-4.jpg')"
   ]
  },
  {
   "cell_type": "code",
   "execution_count": null,
   "metadata": {
    "slideshow": {
     "slide_type": "slide"
    }
   },
   "outputs": [],
   "source": [
    "# Выполните данную ячейку и убедитесь, что задание 4 выполнено корректно:\n",
    "\n",
    "Image.open('result-2-4.jpg')"
   ]
  },
  {
   "cell_type": "markdown",
   "metadata": {
    "slideshow": {
     "slide_type": "slide"
    }
   },
   "source": [
    "# Задание 5"
   ]
  },
  {
   "cell_type": "markdown",
   "metadata": {
    "slideshow": {
     "slide_type": "fragment"
    }
   },
   "source": [
    "Возьмите настроечную таблицу из предыдущего задания и отразите относительно центра изображения **правую** верхнюю и **левую** нижнюю четверти изображения. В результате должно получиться изображение, показанное на рисунке:\n",
    "\n",
    "![](./problem-2-5.jpg)\n",
    "\n",
    "Результат преобразования сохраните в файл `result-2-5.jpg`"
   ]
  },
  {
   "cell_type": "code",
   "execution_count": null,
   "metadata": {
    "slideshow": {
     "slide_type": "slide"
    }
   },
   "outputs": [],
   "source": [
    "im = Image.open('tvsetup.jpg')\n",
    "w, h = im.size\n",
    "px = im.load()\n",
    "\n",
    "# Добавьте код обработки изображения\n",
    "\n",
    "im.save('result-2-5.jpg')"
   ]
  },
  {
   "cell_type": "code",
   "execution_count": null,
   "metadata": {
    "slideshow": {
     "slide_type": "slide"
    }
   },
   "outputs": [],
   "source": [
    "# Выполните данную ячейку и убедитесь, что задание 5 выполнено корректно:\n",
    "\n",
    "Image.open('result-2-5.jpg')"
   ]
  },
  {
   "cell_type": "markdown",
   "metadata": {
    "slideshow": {
     "slide_type": "slide"
    }
   },
   "source": [
    "# Задание 6"
   ]
  },
  {
   "cell_type": "markdown",
   "metadata": {
    "slideshow": {
     "slide_type": "fragment"
    }
   },
   "source": [
    "В файле `tvsetup.bmp` лежит файл с изображением настроечной таблицы, а в файле `tvsetup-secret.bmp` &mdash; он же, но со скрытым посланием. Пиксели, содержащие послание, немного отличаются по яркости от пикселей исходного изображения. Прочтите скрытое послание. "
   ]
  },
  {
   "cell_type": "code",
   "execution_count": null,
   "metadata": {
    "slideshow": {
     "slide_type": "slide"
    }
   },
   "outputs": [],
   "source": [
    "\n",
    "# Добавьте код, позволяющий прочитать послание\n"
   ]
  },
  {
   "cell_type": "markdown",
   "metadata": {
    "slideshow": {
     "slide_type": "slide"
    }
   },
   "source": [
    "# Задание 7"
   ]
  },
  {
   "cell_type": "markdown",
   "metadata": {
    "slideshow": {
     "slide_type": "fragment"
    }
   },
   "source": [
    "Знак &laquo;Стоянка запрещена&raquo; выглядит так:\n",
    "\n",
    "![](./noparking.jpg)\n",
    "\n",
    "Изобразите данный знак (без перспективных искажений!) на белом фоне с помощью объекта `ImageDraw` модуля `PIL`. Результат сохраните в файл `result-2-7.jpg`"
   ]
  },
  {
   "cell_type": "code",
   "execution_count": null,
   "metadata": {
    "slideshow": {
     "slide_type": "slide"
    }
   },
   "outputs": [],
   "source": [
    "w, h = 400, 300\n",
    "im = Image.new('RGB', (w, h), '#FFFFFF')\n",
    "draw = ImageDraw.Draw(im)\n",
    "\n",
    "# Добавьте код обработки изображения\n",
    "\n",
    "im.save('result-2-7.png')"
   ]
  },
  {
   "cell_type": "code",
   "execution_count": null,
   "metadata": {
    "slideshow": {
     "slide_type": "slide"
    }
   },
   "outputs": [],
   "source": [
    "# Выполните данную ячейку и убедитесь, что задание 7 выполнено корректно:\n",
    "\n",
    "Image.open('result-2-7.png')"
   ]
  },
  {
   "cell_type": "markdown",
   "metadata": {
    "slideshow": {
     "slide_type": "slide"
    }
   },
   "source": [
    "# Задание 8"
   ]
  },
  {
   "cell_type": "markdown",
   "metadata": {
    "slideshow": {
     "slide_type": "fragment"
    }
   },
   "source": [
    "Нарисуйте сетку размера `600x400` с шагом в 50 пикселей так, чтобы получилось изображение, показанное на рисунке:\n",
    "\n",
    "![](./problem-2-8.jpg)\n",
    "\n",
    "\n",
    "**Примечание**: Поскольку для отображения последнего ряда линий вам потребуются дополнительные 2 пикселя, итоговый размер вашего изображения будет `602x402`."
   ]
  },
  {
   "cell_type": "code",
   "execution_count": null,
   "metadata": {
    "slideshow": {
     "slide_type": "slide"
    }
   },
   "outputs": [],
   "source": [
    "w, h = 602, 402\n",
    "im = Image.new('RGB', (w, h), '#FFFFFF')\n",
    "draw = ImageDraw.Draw(im)\n",
    "\n",
    "# Добавьте код обработки изображения\n",
    "\n",
    "im.save('result-2-8.jpg')"
   ]
  },
  {
   "cell_type": "code",
   "execution_count": null,
   "metadata": {
    "slideshow": {
     "slide_type": "slide"
    }
   },
   "outputs": [],
   "source": [
    "# Выполните данную ячейку и убедитесь, что задание 8 выполнено корректно:\n",
    "\n",
    "Image.open('result-2-8.jpg')"
   ]
  },
  {
   "cell_type": "markdown",
   "metadata": {
    "slideshow": {
     "slide_type": "slide"
    }
   },
   "source": [
    "# Задание 9"
   ]
  },
  {
   "cell_type": "markdown",
   "metadata": {
    "slideshow": {
     "slide_type": "fragment"
    }
   },
   "source": [
    "Пользуясь для удобства сеткой, созданной в результате выполнения предыдущего задания, нарисуйте домик с трубой:\n",
    "\n",
    "![](./problem-2-9.jpg)\n",
    "\n",
    "Результат сохраните в файл `result-9.jpg`"
   ]
  },
  {
   "cell_type": "code",
   "execution_count": null,
   "metadata": {
    "slideshow": {
     "slide_type": "slide"
    }
   },
   "outputs": [],
   "source": [
    "w, h = 602, 402\n",
    "im = Image.new('RGB', (w, h), '#FFFFFF')\n",
    "draw = ImageDraw.Draw(im)\n",
    "\n",
    "# Добавьте код обработки изображения\n",
    "\n",
    "im.save('result-9.jpg')"
   ]
  },
  {
   "cell_type": "code",
   "execution_count": null,
   "metadata": {
    "slideshow": {
     "slide_type": "slide"
    }
   },
   "outputs": [],
   "source": [
    "# Выполните данную ячейку и убедитесь, что задание 9 выполнено корректно:\n",
    "\n",
    "Image.open('result-2-9.jpg')"
   ]
  },
  {
   "cell_type": "markdown",
   "metadata": {
    "slideshow": {
     "slide_type": "slide"
    }
   },
   "source": [
    "## Задание 10"
   ]
  },
  {
   "cell_type": "markdown",
   "metadata": {
    "slideshow": {
     "slide_type": "fragment"
    }
   },
   "source": [
    "Нарисуйте мишень размера `500x500`:\n",
    "\n",
    "![](./problem-10.png)"
   ]
  },
  {
   "cell_type": "code",
   "execution_count": null,
   "metadata": {
    "slideshow": {
     "slide_type": "slide"
    }
   },
   "outputs": [],
   "source": [
    "# Выполните задание 10 в этой ячейке\n",
    "\n",
    "w, h = 500, 500\n",
    "im = Image.new('RGB', (w, h), '#FFFFFF')\n",
    "draw = ImageDraw.Draw(im)\n",
    "\n",
    "# Добавьте код обработки изображения\n",
    "\n",
    "im.save('result-2-10.png')"
   ]
  },
  {
   "cell_type": "code",
   "execution_count": null,
   "metadata": {
    "slideshow": {
     "slide_type": "slide"
    }
   },
   "outputs": [],
   "source": [
    "# Выполните данную ячейку и убедитесь, что задание 10 выполнено корректно:\n",
    "\n",
    "Image.open('result-2-10.png')"
   ]
  }
 ],
 "metadata": {
  "celltoolbar": "Slideshow",
  "kernelspec": {
   "display_name": "Python 3",
   "language": "python",
   "name": "python3"
  },
  "language_info": {
   "codemirror_mode": {
    "name": "ipython",
    "version": 3
   },
   "file_extension": ".py",
   "mimetype": "text/x-python",
   "name": "python",
   "nbconvert_exporter": "python",
   "pygments_lexer": "ipython3",
   "version": "3.7.4"
  }
 },
 "nbformat": 4,
 "nbformat_minor": 2
}
